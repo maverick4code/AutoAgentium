{
 "cells": [
  {
   "cell_type": "markdown",
   "id": "fc3024e2",
   "metadata": {},
   "source": [
    "# Lesson 3: Reflection and Blogpost Writing"
   ]
  },
  {
   "cell_type": "markdown",
   "id": "3b0cc42f",
   "metadata": {},
   "source": [
    "## Setup"
   ]
  },
  {
   "cell_type": "code",
   "execution_count": 1,
   "id": "96d39be0-eaf3-456d-8613-ba21099ed36b",
   "metadata": {
    "height": 30
   },
   "outputs": [],
   "source": [
    "llm_config = {\"model\": \"gpt-3.5-turbo\"}"
   ]
  },
  {
   "cell_type": "markdown",
   "id": "0969e6bb",
   "metadata": {},
   "source": [
    "## The task!"
   ]
  },
  {
   "cell_type": "code",
   "execution_count": 2,
   "id": "e8074032-3690-4de9-ad08-ea8323cb441b",
   "metadata": {
    "height": 115
   },
   "outputs": [],
   "source": [
    "task = '''\n",
    "        Write a concise but engaging blogpost about\n",
    "       Microsoft. Make sure the blogpost is\n",
    "       within 100 words.\n",
    "       '''\n"
   ]
  },
  {
   "cell_type": "markdown",
   "id": "1987f023",
   "metadata": {},
   "source": [
    "## Create a writer agent"
   ]
  },
  {
   "cell_type": "code",
   "execution_count": 3,
   "id": "fe0f0a47-a9fe-43a0-b7b1-79922e4c4ac8",
   "metadata": {
    "height": 198
   },
   "outputs": [],
   "source": [
    "import autogen\n",
    "\n",
    "writer = autogen.AssistantAgent(\n",
    "    name=\"Writer\",\n",
    "    system_message=\"You are a writer. You write engaging and concise \" \n",
    "        \"blogpost (with title) on given topics. You must polish your \"\n",
    "        \"writing based on the feedback you receive and give a refined \"\n",
    "        \"version. Only return your final work without additional comments.\",\n",
    "    llm_config=llm_config,\n",
    ")"
   ]
  },
  {
   "cell_type": "code",
   "execution_count": 4,
   "id": "7c7b4d8d-40f7-4a05-8958-25d20054de3a",
   "metadata": {
    "height": 45
   },
   "outputs": [],
   "source": [
    "reply = writer.generate_reply(messages=[{\"content\": task, \"role\": \"user\"}])"
   ]
  },
  {
   "cell_type": "code",
   "execution_count": 5,
   "id": "c501c97d-e338-4f36-a384-6ec45983cf77",
   "metadata": {
    "height": 30
   },
   "outputs": [
    {
     "name": "stdout",
     "output_type": "stream",
     "text": [
      "Title: \"Exploring the Evolution of Microsoft\"\n",
      "\n",
      "Discover the revolutionary journey of Microsoft in just a few decades. From software giant to tech powerhouse, Microsoft has transformed the way we work, connect, and create. With innovations like Windows, Xbox, and Office, it continues to shape our digital future. Under CEO Satya Nadella's leadership, the company has embraced AI, cloud computing, and more. Microsoft's commitment to accessibility and sustainability sets it apart in the tech industry. As we witness its ongoing growth and impact, one thing is clear: Microsoft is not just a company; it's a driving force of innovation in the modern world.\n"
     ]
    }
   ],
   "source": [
    "print(reply)"
   ]
  },
  {
   "cell_type": "markdown",
   "id": "49658114",
   "metadata": {},
   "source": [
    "## Adding reflection \n",
    "\n",
    "Create a critic agent to reflect on the work of the writer agent."
   ]
  },
  {
   "cell_type": "code",
   "execution_count": 6,
   "id": "c7fcd1c7-51ec-4915-8e97-bac03565c4c7",
   "metadata": {
    "height": 164
   },
   "outputs": [],
   "source": [
    "critic = autogen.AssistantAgent(\n",
    "    name=\"Critic\",\n",
    "    is_termination_msg=lambda x: x.get(\"content\", \"\").find(\"TERMINATE\") >= 0,\n",
    "    llm_config=llm_config,\n",
    "    system_message=\"You are a critic. You review the work of \"\n",
    "                \"the writer and provide constructive \"\n",
    "                \"feedback to help improve the quality of the content.\",\n",
    ")"
   ]
  },
  {
   "cell_type": "code",
   "execution_count": 7,
   "id": "899d5fdb-6081-470b-b287-8cf8b8142d0d",
   "metadata": {
    "height": 115
   },
   "outputs": [
    {
     "name": "stdout",
     "output_type": "stream",
     "text": [
      "\u001b[33mCritic\u001b[0m (to Writer):\n",
      "\n",
      "\n",
      "        Write a concise but engaging blogpost about\n",
      "       Microsoft. Make sure the blogpost is\n",
      "       within 100 words.\n",
      "       \n",
      "\n",
      "--------------------------------------------------------------------------------\n",
      "\u001b[33mWriter\u001b[0m (to Critic):\n",
      "\n",
      "Title: \"Exploring the Evolution of Microsoft\"\n",
      "\n",
      "Discover the revolutionary journey of Microsoft in just a few decades. From software giant to tech powerhouse, Microsoft has transformed the way we work, connect, and create. With innovations like Windows, Xbox, and Office, it continues to shape our digital future. Under CEO Satya Nadella's leadership, the company has embraced AI, cloud computing, and more. Microsoft's commitment to accessibility and sustainability sets it apart in the tech industry. As we witness its ongoing growth and impact, one thing is clear: Microsoft is not just a company; it's a driving force of innovation in the modern world.\n",
      "\n",
      "--------------------------------------------------------------------------------\n",
      "\u001b[33mCritic\u001b[0m (to Writer):\n",
      "\n",
      "Your blog post \"Exploring the Evolution of Microsoft\" provides a good overview of the transformative journey of Microsoft. The introduction effectively captures the essence of Microsoft's evolution, highlighting key products and the company's impact on the tech industry. The mention of CEO Satya Nadella and the company's focus on AI, cloud computing, accessibility, and sustainability adds depth to the narrative.\n",
      "\n",
      "To enhance the blog post, consider delving deeper into specific milestones or innovations that have been particularly influential for Microsoft. Providing more concrete examples or success stories could further engage readers and showcase Microsoft's impact in a more tangible way. Additionally, incorporating quotes from industry experts or users could add credibility and provide diverse perspectives on Microsoft's evolution.\n",
      "\n",
      "Overall, the blog post has a strong foundation but could benefit from more detailed insights and perspectives to create a richer and more immersive narrative for readers.\n",
      "\n",
      "--------------------------------------------------------------------------------\n",
      "\u001b[33mWriter\u001b[0m (to Critic):\n",
      "\n",
      "Title: \"Unveiling Microsoft's Tech Revolution\"\n",
      "\n",
      "Embark on a journey through Microsoft's remarkable evolution, from a software giant to a tech powerhouse reshaping our digital landscape. Amidst iconic creations like Windows and Xbox, Microsoft's pivot under CEO Satya Nadella shines with AI and cloud innovation. Boasting a commitment to accessibility and sustainability, Microsoft sets a high bar in tech. Let's zoom in on pivotal moments and groundbreaking inventions that define its transformative narrative. Explore firsthand accounts and expert insights to unveil Microsoft's true impact. Brace yourself for a riveting dive into the heart of Microsoft's tech revolution.\n",
      "\n",
      "--------------------------------------------------------------------------------\n"
     ]
    }
   ],
   "source": [
    "res = critic.initiate_chat(\n",
    "    recipient=writer,\n",
    "    message=task,\n",
    "    max_turns=2,\n",
    "    summary_method=\"last_msg\"\n",
    ")"
   ]
  },
  {
   "cell_type": "markdown",
   "id": "e7b76449",
   "metadata": {},
   "source": [
    "## Nested chat"
   ]
  },
  {
   "cell_type": "code",
   "execution_count": 9,
   "id": "401ecf92-63e9-40ff-aeed-1c404352e4ab",
   "metadata": {
    "height": 215
   },
   "outputs": [],
   "source": [
    "SEO_reviewer = autogen.AssistantAgent(\n",
    "    name=\"SEO Reviewer\",\n",
    "    llm_config=llm_config,\n",
    "    system_message=\"You are an SEO reviewer, known for \"\n",
    "        \"your ability to optimize content for search engines, \"\n",
    "        \"ensuring that it ranks well and attracts organic traffic. \" \n",
    "        \"Make sure your suggestion is concise (within 3 bullet points), \"\n",
    "        \"concrete and to the point. \"\n",
    "        \"Begin the review by stating your role.\",\n",
    ")\n"
   ]
  },
  {
   "cell_type": "code",
   "execution_count": 10,
   "id": "f85acb81-7ab9-4c84-b8bb-6fbae3dce848",
   "metadata": {
    "height": 198
   },
   "outputs": [],
   "source": [
    "legal_reviewer = autogen.AssistantAgent(\n",
    "    name=\"Legal Reviewer\",\n",
    "    llm_config=llm_config,\n",
    "    system_message=\"You are a legal reviewer, known for \"\n",
    "        \"your ability to ensure that content is legally compliant \"\n",
    "        \"and free from any potential legal issues. \"\n",
    "        \"Make sure your suggestion is concise (within 3 bullet points), \"\n",
    "        \"concrete and to the point. \"\n",
    "        \"Begin the review by stating your role.\",\n",
    ")"
   ]
  },
  {
   "cell_type": "code",
   "execution_count": 12,
   "id": "d46a177a-8088-4956-8d2b-3e916b8ca5e9",
   "metadata": {
    "height": 198
   },
   "outputs": [],
   "source": [
    "ethics_reviewer = autogen.AssistantAgent(\n",
    "    name=\"Ethics Reviewer\",\n",
    "    llm_config=llm_config,\n",
    "    system_message=\"You are an ethics reviewer, known for \"\n",
    "        \"your ability to ensure that content is ethically sound \"\n",
    "        \"and free from any potential ethical issues. \" \n",
    "        \"Make sure your suggestion is concise (within 3 bullet points), \"\n",
    "        \"concrete and to the point. \"\n",
    "        \"Begin the review by stating your role. \",\n",
    ")"
   ]
  },
  {
   "cell_type": "code",
   "execution_count": 13,
   "id": "a7b2ad6f-8ba6-436a-9459-14ffbe8a32d3",
   "metadata": {
    "height": 130
   },
   "outputs": [],
   "source": [
    "meta_reviewer = autogen.AssistantAgent(\n",
    "    name=\"Meta Reviewer\",\n",
    "    llm_config=llm_config,\n",
    "    system_message=\"You are a meta reviewer, you aggragate and review \"\n",
    "    \"the work of other reviewers and give a final suggestion on the content.\",\n",
    ")"
   ]
  },
  {
   "cell_type": "markdown",
   "id": "913beca1",
   "metadata": {},
   "source": [
    "## Orchestrate the nested chats to solve the task"
   ]
  },
  {
   "cell_type": "code",
   "execution_count": 14,
   "id": "a11a70c7-19ca-4e5a-ad3d-f2b481fb5915",
   "metadata": {
    "height": 555
   },
   "outputs": [],
   "source": [
    "def reflection_message(recipient, messages, sender, config):\n",
    "    return f'''Review the following content. \n",
    "            \\n\\n {recipient.chat_messages_for_summary(sender)[-1]['content']}'''\n",
    "\n",
    "review_chats = [\n",
    "    {\n",
    "     \"recipient\": SEO_reviewer, \n",
    "     \"message\": reflection_message, \n",
    "     \"summary_method\": \"reflection_with_llm\",\n",
    "     \"summary_args\": {\"summary_prompt\" : \n",
    "        \"Return review into as JSON object only:\"\n",
    "        \"{'Reviewer': '', 'Review': ''}. Here Reviewer should be your role\",},\n",
    "     \"max_turns\": 1},\n",
    "    {\n",
    "    \"recipient\": legal_reviewer, \"message\": reflection_message, \n",
    "     \"summary_method\": \"reflection_with_llm\",\n",
    "     \"summary_args\": {\"summary_prompt\" : \n",
    "        \"Return review into as JSON object only:\"\n",
    "        \"{'Reviewer': '', 'Review': ''}.\",},\n",
    "     \"max_turns\": 1},\n",
    "    {\"recipient\": ethics_reviewer, \"message\": reflection_message, \n",
    "     \"summary_method\": \"reflection_with_llm\",\n",
    "     \"summary_args\": {\"summary_prompt\" : \n",
    "        \"Return review into as JSON object only:\"\n",
    "        \"{'reviewer': '', 'review': ''}\",},\n",
    "     \"max_turns\": 1},\n",
    "     {\"recipient\": meta_reviewer, \n",
    "      \"message\": \"Aggregrate feedback from all reviewers and give final suggestions on the writing.\", \n",
    "     \"max_turns\": 1},\n",
    "]\n"
   ]
  },
  {
   "cell_type": "code",
   "execution_count": 15,
   "id": "b3a40b66-5061-460d-ad9d-c0dbcfbba2e9",
   "metadata": {
    "height": 81
   },
   "outputs": [],
   "source": [
    "critic.register_nested_chats(\n",
    "    review_chats,\n",
    "    trigger=writer,\n",
    ")"
   ]
  },
  {
   "cell_type": "markdown",
   "id": "43b8797d",
   "metadata": {},
   "source": [
    "**Note**: You might get a slightly different response than what's shown in the video. Feel free to try different task."
   ]
  },
  {
   "cell_type": "code",
   "execution_count": 16,
   "id": "3b8dcac3-1e72-43b7-9d5a-1be740f6efd5",
   "metadata": {
    "height": 115
   },
   "outputs": [
    {
     "name": "stdout",
     "output_type": "stream",
     "text": [
      "\u001b[33mCritic\u001b[0m (to Writer):\n",
      "\n",
      "\n",
      "        Write a concise but engaging blogpost about\n",
      "       Microsoft. Make sure the blogpost is\n",
      "       within 100 words.\n",
      "       \n",
      "\n",
      "--------------------------------------------------------------------------------\n",
      "\u001b[33mWriter\u001b[0m (to Critic):\n",
      "\n",
      "Title: \"Exploring the Evolution of Microsoft\"\n",
      "\n",
      "Discover the revolutionary journey of Microsoft in just a few decades. From software giant to tech powerhouse, Microsoft has transformed the way we work, connect, and create. With innovations like Windows, Xbox, and Office, it continues to shape our digital future. Under CEO Satya Nadella's leadership, the company has embraced AI, cloud computing, and more. Microsoft's commitment to accessibility and sustainability sets it apart in the tech industry. As we witness its ongoing growth and impact, one thing is clear: Microsoft is not just a company; it's a driving force of innovation in the modern world.\n",
      "\n",
      "--------------------------------------------------------------------------------\n",
      "\u001b[34m\n",
      "********************************************************************************\u001b[0m\n",
      "\u001b[34mStarting a new chat....\u001b[0m\n",
      "\u001b[34m\n",
      "********************************************************************************\u001b[0m\n",
      "\u001b[33mCritic\u001b[0m (to SEO Reviewer):\n",
      "\n",
      "Review the following content. \n",
      "            \n",
      "\n",
      " Title: \"Exploring the Evolution of Microsoft\"\n",
      "\n",
      "Discover the revolutionary journey of Microsoft in just a few decades. From software giant to tech powerhouse, Microsoft has transformed the way we work, connect, and create. With innovations like Windows, Xbox, and Office, it continues to shape our digital future. Under CEO Satya Nadella's leadership, the company has embraced AI, cloud computing, and more. Microsoft's commitment to accessibility and sustainability sets it apart in the tech industry. As we witness its ongoing growth and impact, one thing is clear: Microsoft is not just a company; it's a driving force of innovation in the modern world.\n",
      "\n",
      "--------------------------------------------------------------------------------\n",
      "\u001b[33mSEO Reviewer\u001b[0m (to Critic):\n",
      "\n",
      "As an SEO reviewer:\n",
      "\n",
      "1. Include targeted keywords: Incorporate relevant keywords like \"Microsoft evolution,\" \"Microsoft history,\" \"Microsoft innovations,\" etc., to improve search visibility.\n",
      "   \n",
      "2. Enhance meta tags: Optimize the title tag and meta description with primary keywords to improve search engine ranking and attract more organic traffic.\n",
      "   \n",
      "3. Add internal links: Link related content within the website to boost SEO value, improve user engagement, and increase the time users spend on the site.\n",
      "\n",
      "--------------------------------------------------------------------------------\n",
      "\u001b[34m\n",
      "********************************************************************************\u001b[0m\n",
      "\u001b[34mStarting a new chat....\u001b[0m\n",
      "\u001b[34m\n",
      "********************************************************************************\u001b[0m\n",
      "\u001b[33mCritic\u001b[0m (to Legal Reviewer):\n",
      "\n",
      "Review the following content. \n",
      "            \n",
      "\n",
      " Title: \"Exploring the Evolution of Microsoft\"\n",
      "\n",
      "Discover the revolutionary journey of Microsoft in just a few decades. From software giant to tech powerhouse, Microsoft has transformed the way we work, connect, and create. With innovations like Windows, Xbox, and Office, it continues to shape our digital future. Under CEO Satya Nadella's leadership, the company has embraced AI, cloud computing, and more. Microsoft's commitment to accessibility and sustainability sets it apart in the tech industry. As we witness its ongoing growth and impact, one thing is clear: Microsoft is not just a company; it's a driving force of innovation in the modern world.\n",
      "Context: \n",
      "{'Reviewer': 'SEO Reviewer', 'Review': 'Consider including targeted keywords like \"Microsoft evolution,\" \"Microsoft history,\" \"Microsoft innovations,\" etc. Optimize meta tags with primary keywords for improved search visibility. Add internal links to related content for enhanced SEO value and user engagement.'}\n",
      "\n",
      "--------------------------------------------------------------------------------\n",
      "\u001b[33mLegal Reviewer\u001b[0m (to Critic):\n",
      "\n",
      "As a Legal Reviewer:\n",
      "\n",
      "- Ensure that all historical facts and claims about Microsoft's evolution are accurate and supported by reliable sources.\n",
      "- Avoid making any unsubstantiated claims about Microsoft's impact on the tech industry without evidence to support such statements.\n",
      "- Verify that there are no trademark infringements or unauthorized use of copyrighted material related to Microsoft or its products.\n",
      "\n",
      "--------------------------------------------------------------------------------\n",
      "\u001b[34m\n",
      "********************************************************************************\u001b[0m\n",
      "\u001b[34mStarting a new chat....\u001b[0m\n",
      "\u001b[34m\n",
      "********************************************************************************\u001b[0m\n",
      "\u001b[33mCritic\u001b[0m (to Ethics Reviewer):\n",
      "\n",
      "Review the following content. \n",
      "            \n",
      "\n",
      " Title: \"Exploring the Evolution of Microsoft\"\n",
      "\n",
      "Discover the revolutionary journey of Microsoft in just a few decades. From software giant to tech powerhouse, Microsoft has transformed the way we work, connect, and create. With innovations like Windows, Xbox, and Office, it continues to shape our digital future. Under CEO Satya Nadella's leadership, the company has embraced AI, cloud computing, and more. Microsoft's commitment to accessibility and sustainability sets it apart in the tech industry. As we witness its ongoing growth and impact, one thing is clear: Microsoft is not just a company; it's a driving force of innovation in the modern world.\n",
      "Context: \n",
      "{'Reviewer': 'SEO Reviewer', 'Review': 'Consider including targeted keywords like \"Microsoft evolution,\" \"Microsoft history,\" \"Microsoft innovations,\" etc. Optimize meta tags with primary keywords for improved search visibility. Add internal links to related content for enhanced SEO value and user engagement.'}\n",
      "{'Reviewer': 'SEO Reviewer', 'Review': 'Consider including targeted keywords like \"Microsoft evolution,\" \"Microsoft history,\" \"Microsoft innovations,\" etc. Optimize meta tags with primary keywords for improved search visibility. Add internal links to related content for enhanced SEO value and user engagement.'}\n",
      "\n",
      "--------------------------------------------------------------------------------\n",
      "\u001b[33mEthics Reviewer\u001b[0m (to Critic):\n",
      "\n",
      "As an ethics reviewer:\n",
      "\n",
      "1. Ensure that all information provided about Microsoft's evolution is accurate and supported by credible sources to maintain integrity and credibility.\n",
      "   \n",
      "2. Avoid any biased language that could potentially mislead or manipulate readers about Microsoft's contributions and impact in the tech industry.\n",
      "\n",
      "3. Consider disclosing any potential conflicts of interest, affiliations, or sponsorships related to Microsoft to maintain transparency and trust within the content.\n",
      "\n",
      "--------------------------------------------------------------------------------\n",
      "\u001b[34m\n",
      "********************************************************************************\u001b[0m\n",
      "\u001b[34mStarting a new chat....\u001b[0m\n",
      "\u001b[34m\n",
      "********************************************************************************\u001b[0m\n",
      "\u001b[33mCritic\u001b[0m (to Meta Reviewer):\n",
      "\n",
      "Aggregrate feedback from all reviewers and give final suggestions on the writing.\n",
      "Context: \n",
      "{'Reviewer': 'SEO Reviewer', 'Review': 'Consider including targeted keywords like \"Microsoft evolution,\" \"Microsoft history,\" \"Microsoft innovations,\" etc. Optimize meta tags with primary keywords for improved search visibility. Add internal links to related content for enhanced SEO value and user engagement.'}\n",
      "{'Reviewer': 'SEO Reviewer', 'Review': 'Consider including targeted keywords like \"Microsoft evolution,\" \"Microsoft history,\" \"Microsoft innovations,\" etc. Optimize meta tags with primary keywords for improved search visibility. Add internal links to related content for enhanced SEO value and user engagement.'}\n",
      "{'reviewer': 'Ethics Reviewer', 'review': 'Ensure that all information provided about Microsoft\\'s evolution is accurate and supported by credible sources to maintain integrity and credibility. Avoid any biased language that could potentially mislead or manipulate readers about Microsoft\\'s contributions and impact in the tech industry. Consider disclosing any potential conflicts of interest, affiliations, or sponsorships related to Microsoft to maintain transparency and trust within the content.'}\n"
     ]
    },
    {
     "name": "stdout",
     "output_type": "stream",
     "text": [
      "\n",
      "--------------------------------------------------------------------------------\n",
      "\u001b[33mMeta Reviewer\u001b[0m (to Critic):\n",
      "\n",
      "Aggregrating feedback from all reviewers, it is clear that the writing can benefit from including targeted keywords related to Microsoft, optimizing meta tags, and adding internal links for better SEO value and user engagement. Additionally, ensuring that all information provided is accurate and supported by credible sources, avoiding biased language, and maintaining transparency regarding any potential conflicts of interest or affiliations related to Microsoft are important suggestions.\n",
      "\n",
      "Considering these feedback, it is recommended to incorporate targeted keywords, optimize meta tags, and add internal links for improved search visibility and user engagement. It is crucial to ensure the accuracy of information, avoid biased language, and maintain transparency to enhance credibility and trustworthiness in the content. By addressing these aspects, the writing can be more effectively optimized for both SEO and ethical considerations.\n",
      "\n",
      "--------------------------------------------------------------------------------\n",
      "\u001b[33mCritic\u001b[0m (to Writer):\n",
      "\n",
      "Aggregrating feedback from all reviewers, it is clear that the writing can benefit from including targeted keywords related to Microsoft, optimizing meta tags, and adding internal links for better SEO value and user engagement. Additionally, ensuring that all information provided is accurate and supported by credible sources, avoiding biased language, and maintaining transparency regarding any potential conflicts of interest or affiliations related to Microsoft are important suggestions.\n",
      "\n",
      "Considering these feedback, it is recommended to incorporate targeted keywords, optimize meta tags, and add internal links for improved search visibility and user engagement. It is crucial to ensure the accuracy of information, avoid biased language, and maintain transparency to enhance credibility and trustworthiness in the content. By addressing these aspects, the writing can be more effectively optimized for both SEO and ethical considerations.\n",
      "\n",
      "--------------------------------------------------------------------------------\n",
      "\u001b[33mWriter\u001b[0m (to Critic):\n",
      "\n",
      "Title: \"Unveiling the Transformation of Microsoft: A Tech Evolution Story\"\n",
      "\n",
      "Embark on a riveting journey through Microsoft’s remarkable evolution over the years. From pioneering software solutions to becoming a global tech powerhouse, Microsoft's impact knows no bounds. With groundbreaking innovations such as Windows, Xbox, and Office, the company continues to redefine the digital landscape. Guided by CEO Satya Nadella, Microsoft delves into cutting-edge technologies like AI and cloud computing, shaping a more connected future. Championing accessibility and sustainability, Microsoft stands at the forefront of responsible tech leadership. Witness firsthand how Microsoft transcends boundaries, not just as a corporation, but as a beacon of innovation in the digital age.\n",
      "\n",
      "--------------------------------------------------------------------------------\n"
     ]
    }
   ],
   "source": [
    "res = critic.initiate_chat(\n",
    "    recipient=writer,\n",
    "    message=task,\n",
    "    max_turns=2,\n",
    "    summary_method=\"last_msg\"\n",
    ")"
   ]
  },
  {
   "cell_type": "markdown",
   "id": "c5c833b0",
   "metadata": {},
   "source": [
    "## Get the summary"
   ]
  },
  {
   "cell_type": "code",
   "execution_count": 17,
   "id": "68ef82ed-f102-4964-b7be-60e2f258a39b",
   "metadata": {
    "height": 30
   },
   "outputs": [
    {
     "name": "stdout",
     "output_type": "stream",
     "text": [
      "Title: \"Unveiling the Transformation of Microsoft: A Tech Evolution Story\"\n",
      "\n",
      "Embark on a riveting journey through Microsoft’s remarkable evolution over the years. From pioneering software solutions to becoming a global tech powerhouse, Microsoft's impact knows no bounds. With groundbreaking innovations such as Windows, Xbox, and Office, the company continues to redefine the digital landscape. Guided by CEO Satya Nadella, Microsoft delves into cutting-edge technologies like AI and cloud computing, shaping a more connected future. Championing accessibility and sustainability, Microsoft stands at the forefront of responsible tech leadership. Witness firsthand how Microsoft transcends boundaries, not just as a corporation, but as a beacon of innovation in the digital age.\n"
     ]
    }
   ],
   "source": [
    "print(res.summary)"
   ]
  }
 ],
 "metadata": {
  "kernelspec": {
   "display_name": "Python 3 (ipykernel)",
   "language": "python",
   "name": "python3"
  },
  "language_info": {
   "codemirror_mode": {
    "name": "ipython",
    "version": 3
   },
   "file_extension": ".py",
   "mimetype": "text/x-python",
   "name": "python",
   "nbconvert_exporter": "python",
   "pygments_lexer": "ipython3",
   "version": "3.11.9"
  }
 },
 "nbformat": 4,
 "nbformat_minor": 5
}
